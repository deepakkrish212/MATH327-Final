{
 "cells": [
  {
   "cell_type": "code",
   "execution_count": 1,
   "metadata": {},
   "outputs": [],
   "source": [
    "import pandas as pd\n",
    "from sklearn.model_selection import train_test_split\n",
    "from sklearn.feature_extraction.text import TfidfVectorizer\n",
    "from sklearn.ensemble import RandomForestClassifier\n",
    "from sklearn.preprocessing import LabelEncoder\n",
    "from sklearn.metrics import classification_report, accuracy_score\n",
    "from keras.models import Sequential\n",
    "from keras.layers import Dense, Dropout\n",
    "from textblob import TextBlob\n",
    "from keras.optimizers import Adam\n",
    "from sklearn.metrics import confusion_matrix\n",
    "import seaborn as sns\n",
    "import matplotlib.pyplot as plt\n",
    "from sklearn.metrics import roc_curve, auc\n",
    "from sklearn.metrics import precision_recall_curve\n",
    "from sklearn.utils.class_weight import compute_class_weight\n",
    "import numpy as np\n",
    "from keras.models import Sequential\n",
    "from keras.layers import Dense, Dropout\n",
    "from keras.optimizers import Adam\n",
    "from keras.regularizers import l2"
   ]
  },
  {
   "cell_type": "markdown",
   "metadata": {},
   "source": [
    "Load and Prepare Data"
   ]
  },
  {
   "cell_type": "code",
   "execution_count": 2,
   "metadata": {},
   "outputs": [],
   "source": [
    "data = pd.read_csv('Problem_C_Data/microwave.tsv', sep='\\t')\n",
    "\n",
    "data['review_body'] = data['review_body'].fillna('').astype(str).str.lower()\n",
    "\n",
    "data['sentiment'] = data['review_body'].apply(lambda x: TextBlob(x).sentiment.polarity)\n"
   ]
  },
  {
   "cell_type": "markdown",
   "metadata": {},
   "source": [
    "Text Vectorization"
   ]
  },
  {
   "cell_type": "code",
   "execution_count": 3,
   "metadata": {},
   "outputs": [],
   "source": [
    "tfidf = TfidfVectorizer(max_features=1000)\n",
    "tfidf_features = tfidf.fit_transform(data['review_body']).toarray()\n"
   ]
  },
  {
   "cell_type": "markdown",
   "metadata": {},
   "source": [
    "Feature Engineering and Dataset Splitting"
   ]
  },
  {
   "cell_type": "code",
   "execution_count": 4,
   "metadata": {},
   "outputs": [],
   "source": [
    "X = pd.concat([pd.DataFrame(tfidf_features), data[['sentiment', 'helpful_votes', 'total_votes']]], axis=1)\n",
    "y = data['star_rating'].apply(lambda x: 1 if x > 3 else 0)  # Binary classification for simplicity\n",
    "\n",
    "X_train, X_test, y_train, y_test = train_test_split(X, y, test_size=0.25, random_state=42)\n"
   ]
  },
  {
   "cell_type": "markdown",
   "metadata": {},
   "source": [
    "Build and Train the Neural Network"
   ]
  },
  {
   "cell_type": "code",
   "execution_count": 5,
   "metadata": {},
   "outputs": [
    {
     "name": "stdout",
     "output_type": "stream",
     "text": [
      "Epoch 1/10\n"
     ]
    },
    {
     "name": "stderr",
     "output_type": "stream",
     "text": [
      "C:\\Users\\16057\\AppData\\Local\\Packages\\PythonSoftwareFoundation.Python.3.10_qbz5n2kfra8p0\\LocalCache\\local-packages\\Python310\\site-packages\\keras\\engine\\data_adapter.py:1696: FutureWarning: The behavior of `series[i:j]` with an integer-dtype index is deprecated. In a future version, this will be treated as *label-based* indexing, consistent with e.g. `series[i]` lookups. To retain the old behavior, use `series.iloc[i:j]`. To get the future behavior, use `series.loc[i:j]`.\n",
      "  return t[start:end]\n"
     ]
    },
    {
     "name": "stdout",
     "output_type": "stream",
     "text": [
      "29/29 [==============================] - 1s 16ms/step - loss: 7.4974 - accuracy: 0.6366 - val_loss: 4.7934 - val_accuracy: 0.5776\n",
      "Epoch 2/10\n",
      "29/29 [==============================] - 0s 11ms/step - loss: 3.4091 - accuracy: 0.7996 - val_loss: 2.5831 - val_accuracy: 0.7591\n",
      "Epoch 3/10\n",
      "29/29 [==============================] - 0s 12ms/step - loss: 2.0981 - accuracy: 0.8425 - val_loss: 1.8427 - val_accuracy: 0.8119\n",
      "Epoch 4/10\n",
      "29/29 [==============================] - 0s 14ms/step - loss: 1.6840 - accuracy: 0.8733 - val_loss: 1.6802 - val_accuracy: 0.8218\n",
      "Epoch 5/10\n",
      "29/29 [==============================] - 0s 12ms/step - loss: 1.2462 - accuracy: 0.9273 - val_loss: 1.3152 - val_accuracy: 0.8350\n",
      "Epoch 6/10\n",
      "29/29 [==============================] - 0s 13ms/step - loss: 1.0128 - accuracy: 0.9394 - val_loss: 1.1866 - val_accuracy: 0.8152\n",
      "Epoch 7/10\n",
      "29/29 [==============================] - 0s 12ms/step - loss: 0.8625 - accuracy: 0.9637 - val_loss: 1.0782 - val_accuracy: 0.8020\n",
      "Epoch 8/10\n",
      "29/29 [==============================] - 0s 11ms/step - loss: 0.7452 - accuracy: 0.9604 - val_loss: 0.9714 - val_accuracy: 0.8317\n",
      "Epoch 9/10\n",
      "29/29 [==============================] - 0s 12ms/step - loss: 0.6336 - accuracy: 0.9714 - val_loss: 0.9658 - val_accuracy: 0.8416\n",
      "Epoch 10/10\n",
      "29/29 [==============================] - 0s 11ms/step - loss: 0.5385 - accuracy: 0.9813 - val_loss: 0.8464 - val_accuracy: 0.8482\n"
     ]
    },
    {
     "data": {
      "text/plain": [
       "<keras.callbacks.History at 0x1d85db53f70>"
      ]
     },
     "execution_count": 5,
     "metadata": {},
     "output_type": "execute_result"
    }
   ],
   "source": [
    "unique_classes = np.unique(y_train)\n",
    "class_weights = compute_class_weight('balanced', classes=unique_classes, y=y_train)\n",
    "\n",
    "class_weight_dict = {}\n",
    "\n",
    "for cls, weight in zip(unique_classes, class_weights):\n",
    "    class_weight_dict[cls] = weight  \n",
    "\n",
    "\n",
    "model = Sequential()\n",
    "model.add(Dense(1024, input_dim=X_train.shape[1], activation='relu'))\n",
    "model.add(Dropout(0.3)) \n",
    "model.add(Dense(512, activation='relu', kernel_regularizer=l2(0.01)))  \n",
    "model.add(Dropout(0.3)) \n",
    "model.add(Dense(256, activation='relu', kernel_regularizer=l2(0.01))) \n",
    "model.add(Dropout(0.3))  \n",
    "model.add(Dense(1, activation='sigmoid', kernel_regularizer=l2(0.01)))\n",
    "\n",
    "\n",
    "optimizer = Adam(learning_rate=0.0001)\n",
    "model.compile(loss='binary_crossentropy', optimizer=Adam(), metrics=['accuracy'])\n",
    "\n",
    "model.fit(X_train, y_train, epochs=10, batch_size=32, class_weight=class_weight_dict, validation_split=0.25)\n"
   ]
  },
  {
   "cell_type": "markdown",
   "metadata": {},
   "source": [
    "Model Evaluation"
   ]
  },
  {
   "cell_type": "code",
   "execution_count": 6,
   "metadata": {},
   "outputs": [
    {
     "name": "stdout",
     "output_type": "stream",
     "text": [
      "13/13 [==============================] - 0s 3ms/step\n",
      "Neural Network Accuracy: 0.8787128712871287\n",
      "              precision    recall  f1-score   support\n",
      "\n",
      "           0       0.86      0.84      0.85       164\n",
      "           1       0.89      0.90      0.90       240\n",
      "\n",
      "    accuracy                           0.88       404\n",
      "   macro avg       0.88      0.87      0.87       404\n",
      "weighted avg       0.88      0.88      0.88       404\n",
      "\n"
     ]
    }
   ],
   "source": [
    "y_pred_nn = (model.predict(X_test) > 0.5).astype(int)\n",
    "\n",
    "# Evaluating the model\n",
    "print(\"Neural Network Accuracy:\", accuracy_score(y_test, y_pred_nn))\n",
    "print(classification_report(y_test, y_pred_nn))\n"
   ]
  },
  {
   "cell_type": "markdown",
   "metadata": {},
   "source": [
    "Confusion matrix"
   ]
  },
  {
   "cell_type": "code",
   "execution_count": 7,
   "metadata": {},
   "outputs": [
    {
     "data": {
      "image/png": "[encoded data removed]",
      "text/plain": [
       "<Figure size 640x480 with 2 Axes>"
      ]
     },
     "metadata": {},
     "output_type": "display_data"
    }
   ],
   "source": [
    "cm = confusion_matrix(y_test, y_pred_nn)\n",
    "sns.heatmap(cm, annot=True, fmt='d', cmap='Blues')\n",
    "plt.xlabel('Predicted Label')\n",
    "plt.ylabel('True Label')\n",
    "plt.title('Confusion Matrix')\n",
    "plt.show()"
   ]
  },
  {
   "cell_type": "code",
   "execution_count": null,
   "metadata": {},
   "outputs": [],
   "source": []
  }
 ],
 "metadata": {
  "kernelspec": {
   "display_name": "Python 3",
   "language": "python",
   "name": "python3"
  },
  "language_info": {
   "codemirror_mode": {
    "name": "ipython",
    "version": 3
   },
   "file_extension": ".py",
   "mimetype": "text/x-python",
   "name": "python",
   "nbconvert_exporter": "python",
   "pygments_lexer": "ipython3",
   "version": "3.10.11"
  }
 },
 "nbformat": 4,
 "nbformat_minor": 2
}
